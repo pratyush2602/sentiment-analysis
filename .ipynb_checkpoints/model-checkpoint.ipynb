{
 "cells": [
  {
   "cell_type": "code",
   "execution_count": 2,
   "id": "41e44ad6",
   "metadata": {},
   "outputs": [
    {
     "name": "stderr",
     "output_type": "stream",
     "text": [
      "[nltk_data] Downloading package punkt to\n",
      "[nltk_data]     C:\\Users\\praty\\AppData\\Roaming\\nltk_data...\n",
      "[nltk_data]   Package punkt is already up-to-date!\n"
     ]
    },
    {
     "data": {
      "text/plain": [
       "True"
      ]
     },
     "execution_count": 2,
     "metadata": {},
     "output_type": "execute_result"
    }
   ],
   "source": [
    "import numpy as np\n",
    "import pandas as pd\n",
    "import matplotlib.pyplot as plt\n",
    "import nltk\n",
    "import nltk.corpus\n",
    "from nltk.tokenize import word_tokenize \n",
    "from nltk.tokenize import blankline_tokenize \n",
    "nltk.download('punkt')\n",
    "#nltk.download()"
   ]
  },
  {
   "cell_type": "code",
   "execution_count": 3,
   "id": "e570ced9",
   "metadata": {},
   "outputs": [],
   "source": [
    "training = pd.read_csv('Dataset/training.csv')\n",
    "training = training.drop(['id'],axis=1)"
   ]
  },
  {
   "cell_type": "code",
   "execution_count": 4,
   "id": "b2d4c780",
   "metadata": {
    "scrolled": false
   },
   "outputs": [
    {
     "data": {
      "text/html": [
       "<div>\n",
       "<style scoped>\n",
       "    .dataframe tbody tr th:only-of-type {\n",
       "        vertical-align: middle;\n",
       "    }\n",
       "\n",
       "    .dataframe tbody tr th {\n",
       "        vertical-align: top;\n",
       "    }\n",
       "\n",
       "    .dataframe thead th {\n",
       "        text-align: right;\n",
       "    }\n",
       "</style>\n",
       "<table border=\"1\" class=\"dataframe\">\n",
       "  <thead>\n",
       "    <tr style=\"text-align: right;\">\n",
       "      <th></th>\n",
       "      <th>text</th>\n",
       "      <th>label</th>\n",
       "    </tr>\n",
       "  </thead>\n",
       "  <tbody>\n",
       "    <tr>\n",
       "      <th>0</th>\n",
       "      <td>i didnt feel humiliated</td>\n",
       "      <td>0</td>\n",
       "    </tr>\n",
       "    <tr>\n",
       "      <th>1</th>\n",
       "      <td>i can go from feeling so hopeless to so damned...</td>\n",
       "      <td>0</td>\n",
       "    </tr>\n",
       "    <tr>\n",
       "      <th>2</th>\n",
       "      <td>im grabbing a minute to post i feel greedy wrong</td>\n",
       "      <td>3</td>\n",
       "    </tr>\n",
       "    <tr>\n",
       "      <th>3</th>\n",
       "      <td>i am ever feeling nostalgic about the fireplac...</td>\n",
       "      <td>2</td>\n",
       "    </tr>\n",
       "    <tr>\n",
       "      <th>4</th>\n",
       "      <td>i am feeling grouchy</td>\n",
       "      <td>3</td>\n",
       "    </tr>\n",
       "  </tbody>\n",
       "</table>\n",
       "</div>"
      ],
      "text/plain": [
       "                                                text  label\n",
       "0                            i didnt feel humiliated      0\n",
       "1  i can go from feeling so hopeless to so damned...      0\n",
       "2   im grabbing a minute to post i feel greedy wrong      3\n",
       "3  i am ever feeling nostalgic about the fireplac...      2\n",
       "4                               i am feeling grouchy      3"
      ]
     },
     "execution_count": 4,
     "metadata": {},
     "output_type": "execute_result"
    }
   ],
   "source": [
    "training.head()\n"
   ]
  },
  {
   "cell_type": "code",
   "execution_count": 5,
   "id": "6f7d6c23",
   "metadata": {},
   "outputs": [
    {
     "data": {
      "text/plain": [
       "<AxesSubplot:>"
      ]
     },
     "execution_count": 5,
     "metadata": {},
     "output_type": "execute_result"
    },
    {
     "data": {
      "image/png": "[encoded data removed]",
      "text/plain": [
       "<Figure size 432x288 with 1 Axes>"
      ]
     },
     "metadata": {
      "needs_background": "light"
     },
     "output_type": "display_data"
    }
   ],
   "source": [
    "training['label'].value_counts().plot(kind='bar')"
   ]
  },
  {
   "cell_type": "markdown",
   "id": "9a868e51",
   "metadata": {},
   "source": [
    "# preprocessing"
   ]
  },
  {
   "cell_type": "code",
   "execution_count": 6,
   "id": "24f7f85f",
   "metadata": {},
   "outputs": [],
   "source": [
    " data = training['text'].tolist() "
   ]
  },
  {
   "cell_type": "code",
   "execution_count": 7,
   "id": "d52f3c1d",
   "metadata": {},
   "outputs": [
    {
     "data": {
      "text/plain": [
       "'  i didnt feel h'"
      ]
     },
     "execution_count": 7,
     "metadata": {},
     "output_type": "execute_result"
    }
   ],
   "source": [
    "mystr = \" \"\n",
    "for words in data:\n",
    "    mystr = mystr +\" \"+ words\n",
    "mystr[:16]"
   ]
  },
  {
   "cell_type": "code",
   "execution_count": 8,
   "id": "4ff946f0",
   "metadata": {},
   "outputs": [],
   "source": [
    "tokens = word_tokenize(mystr)"
   ]
  },
  {
   "cell_type": "code",
   "execution_count": 9,
   "id": "3eb931da",
   "metadata": {},
   "outputs": [
    {
     "data": {
      "text/plain": [
       "344559"
      ]
     },
     "execution_count": 9,
     "metadata": {},
     "output_type": "execute_result"
    }
   ],
   "source": [
    "tokens[:5]\n",
    "len(tokens)"
   ]
  },
  {
   "cell_type": "code",
   "execution_count": 10,
   "id": "86d296c3",
   "metadata": {},
   "outputs": [],
   "source": [
    "from nltk.probability import FreqDist\n",
    "f_dist = FreqDist() #()is important"
   ]
  },
  {
   "cell_type": "code",
   "execution_count": 11,
   "id": "6c93e572",
   "metadata": {},
   "outputs": [],
   "source": [
    "for word in tokens:\n",
    "    f_dist[word.lower()] += 1"
   ]
  },
  {
   "cell_type": "code",
   "execution_count": 12,
   "id": "435d2246",
   "metadata": {},
   "outputs": [
    {
     "data": {
      "text/plain": [
       "FreqDist({'i': 29044, 'feel': 12544, 'and': 10766, 'to': 10086, 'the': 9383, 'a': 6982, 'feeling': 5785, 'that': 5701, 'of': 5587, 'my': 4789, ...})"
      ]
     },
     "execution_count": 12,
     "metadata": {},
     "output_type": "execute_result"
    }
   ],
   "source": [
    "f_dist"
   ]
  },
  {
   "cell_type": "code",
   "execution_count": 13,
   "id": "3e81faec",
   "metadata": {},
   "outputs": [],
   "source": [
    "c_wrds = f_dist.most_common(100)"
   ]
  },
  {
   "cell_type": "code",
   "execution_count": 14,
   "id": "8e88e991",
   "metadata": {},
   "outputs": [
    {
     "data": {
      "text/plain": [
       "[('i', 29044), ('feel', 12544), ('and', 10766), ('to', 10086), ('the', 9383)]"
      ]
     },
     "execution_count": 14,
     "metadata": {},
     "output_type": "execute_result"
    }
   ],
   "source": [
    "c_wrds[:5]"
   ]
  },
  {
   "cell_type": "markdown",
   "id": "64cf86c1",
   "metadata": {},
   "source": [
    "# removing stop words"
   ]
  },
  {
   "cell_type": "code",
   "execution_count": 15,
   "id": "8ea9a7e0",
   "metadata": {},
   "outputs": [],
   "source": [
    "from nltk.corpus import stopwords"
   ]
  },
  {
   "cell_type": "code",
   "execution_count": 16,
   "id": "5636a210",
   "metadata": {},
   "outputs": [],
   "source": [
    "mystopw = []\n",
    "templist1 = f_dist.most_common(50)\n",
    "for i in range(50):\n",
    "    mystopw.append(templist1[i][0])"
   ]
  },
  {
   "cell_type": "code",
   "execution_count": 17,
   "id": "02de4475",
   "metadata": {},
   "outputs": [
    {
     "data": {
      "text/plain": [
       "['i',\n",
       " 'feel',\n",
       " 'and',\n",
       " 'to',\n",
       " 'the',\n",
       " 'a',\n",
       " 'feeling',\n",
       " 'that',\n",
       " 'of',\n",
       " 'my',\n",
       " 'in',\n",
       " 'it',\n",
       " 'like',\n",
       " 'so',\n",
       " 'im',\n",
       " 'for',\n",
       " 'me',\n",
       " 'was',\n",
       " 'but',\n",
       " 'have']"
      ]
     },
     "execution_count": 17,
     "metadata": {},
     "output_type": "execute_result"
    }
   ],
   "source": [
    "mystopw[:20]"
   ]
  },
  {
   "cell_type": "code",
   "execution_count": 18,
   "id": "5cb0b8d3",
   "metadata": {},
   "outputs": [],
   "source": [
    "for word in stopwords.words('english'):\n",
    "    if word not in mystopw:\n",
    "        mystopw.append(word)"
   ]
  },
  {
   "cell_type": "code",
   "execution_count": 19,
   "id": "a54b85ee",
   "metadata": {},
   "outputs": [
    {
     "data": {
      "text/plain": [
       "185"
      ]
     },
     "execution_count": 19,
     "metadata": {},
     "output_type": "execute_result"
    }
   ],
   "source": [
    "len(mystopw)"
   ]
  },
  {
   "cell_type": "code",
   "execution_count": 20,
   "id": "cfe56dff",
   "metadata": {},
   "outputs": [
    {
     "data": {
      "text/plain": [
       "18000"
      ]
     },
     "execution_count": 20,
     "metadata": {},
     "output_type": "execute_result"
    }
   ],
   "source": [
    "n = len(training)\n",
    "n"
   ]
  },
  {
   "cell_type": "code",
   "execution_count": 21,
   "id": "880ee721",
   "metadata": {},
   "outputs": [],
   "source": [
    "ppr_data = []\n",
    "for i in range(n):\n",
    "    str1 = training['text'][i]\n",
    "    str2 = word_tokenize(str1)\n",
    "    str3 = []\n",
    "    for str2_words in str2:\n",
    "        str2_lemmatized = nltk.stem.WordNetLemmatizer().lemmatize(str2_words)\n",
    "        if str2_lemmatized.lower() not in mystopw:\n",
    "            str3.append(str2_lemmatized)\n",
    "    ppr_data.append(str3)"
   ]
  },
  {
   "cell_type": "code",
   "execution_count": 22,
   "id": "71e6a7e6",
   "metadata": {},
   "outputs": [
    {
     "data": {
      "text/plain": [
       "[['didnt', 'humiliated'],\n",
       " ['go', 'hopeless', 'damned', 'hopeful', 'around', 'someone', 'care', 'awake'],\n",
       " ['grabbing', 'minute', 'post', 'greedy', 'wrong'],\n",
       " ['ever', 'nostalgic', 'fireplace', 'still', 'property'],\n",
       " ['grouchy'],\n",
       " ['ive', 'little', 'burdened', 'lately', 'wasnt', 'sure', 'wa'],\n",
       " ['ive',\n",
       "  'taking',\n",
       "  'milligram',\n",
       "  'time',\n",
       "  'recommended',\n",
       "  'amount',\n",
       "  'ive',\n",
       "  'fallen',\n",
       "  'asleep',\n",
       "  'lot',\n",
       "  'faster',\n",
       "  'also',\n",
       "  'funny'],\n",
       " ['confused', 'life', 'teenager', 'jaded', 'year', 'old', 'man'],\n",
       " ['petronas',\n",
       "  'year',\n",
       "  'petronas',\n",
       "  'ha',\n",
       "  'performed',\n",
       "  'well',\n",
       "  'made',\n",
       "  'huge',\n",
       "  'profit'],\n",
       " ['romantic']]"
      ]
     },
     "execution_count": 22,
     "metadata": {},
     "output_type": "execute_result"
    }
   ],
   "source": [
    "ppr_data[:10]"
   ]
  },
  {
   "cell_type": "code",
   "execution_count": 23,
   "id": "24007685",
   "metadata": {},
   "outputs": [
    {
     "data": {
      "text/plain": [
       "18000"
      ]
     },
     "execution_count": 23,
     "metadata": {},
     "output_type": "execute_result"
    }
   ],
   "source": [
    "len(ppr_data)"
   ]
  },
  {
   "cell_type": "code",
   "execution_count": 24,
   "id": "5a528be1",
   "metadata": {},
   "outputs": [
    {
     "data": {
      "text/plain": [
       "[['didnt', 'humiliated'],\n",
       " ['go', 'hopeless', 'damned', 'hopeful', 'around', 'someone', 'care', 'awake'],\n",
       " ['grabbing', 'minute', 'post', 'greedy', 'wrong']]"
      ]
     },
     "execution_count": 24,
     "metadata": {},
     "output_type": "execute_result"
    }
   ],
   "source": [
    "ppr_data[:3]"
   ]
  },
  {
   "cell_type": "code",
   "execution_count": 25,
   "id": "7d45419e",
   "metadata": {},
   "outputs": [],
   "source": [
    "from nltk.tokenize.treebank import TreebankWordDetokenizer"
   ]
  },
  {
   "cell_type": "code",
   "execution_count": 26,
   "id": "829bcc50",
   "metadata": {},
   "outputs": [],
   "source": [
    "ppr_data1 = []\n",
    "for i in range(len(ppr_data)):\n",
    "    ppr_data1.append(TreebankWordDetokenizer().detokenize(ppr_data[i]))"
   ]
  },
  {
   "cell_type": "code",
   "execution_count": 27,
   "id": "32a24d42",
   "metadata": {
    "scrolled": true
   },
   "outputs": [
    {
     "data": {
      "text/plain": [
       "['didnt humiliated',\n",
       " 'go hopeless damned hopeful around someone care awake',\n",
       " 'grabbing minute post greedy wrong',\n",
       " 'ever nostalgic fireplace still property',\n",
       " 'grouchy']"
      ]
     },
     "execution_count": 27,
     "metadata": {},
     "output_type": "execute_result"
    }
   ],
   "source": [
    "ppr_data1[:5]"
   ]
  },
  {
   "cell_type": "code",
   "execution_count": null,
   "id": "c0464845",
   "metadata": {},
   "outputs": [],
   "source": []
  },
  {
   "cell_type": "code",
   "execution_count": 28,
   "id": "1e696a01",
   "metadata": {},
   "outputs": [],
   "source": [
    "from sklearn.feature_extraction.text import TfidfVectorizer"
   ]
  },
  {
   "cell_type": "code",
   "execution_count": 29,
   "id": "34df2c51",
   "metadata": {},
   "outputs": [],
   "source": [
    "vectorizer = TfidfVectorizer()\n",
    "vectorizer.fit(ppr_data1)\n",
    "vec_data = vectorizer.transform(ppr_data1)"
   ]
  },
  {
   "cell_type": "code",
   "execution_count": 30,
   "id": "3388ffff",
   "metadata": {},
   "outputs": [
    {
     "data": {
      "text/plain": [
       "<18000x14274 sparse matrix of type '<class 'numpy.float64'>'\n",
       "\twith 138957 stored elements in Compressed Sparse Row format>"
      ]
     },
     "execution_count": 30,
     "metadata": {},
     "output_type": "execute_result"
    }
   ],
   "source": [
    "vec_data"
   ]
  },
  {
   "cell_type": "code",
   "execution_count": 31,
   "id": "10899dec",
   "metadata": {},
   "outputs": [],
   "source": [
    "from sklearn.model_selection import train_test_split\n",
    "x_train, x_test, y_train, y_test = train_test_split(vec_data ,training['label'] , test_size=0.3, random_state=42)"
   ]
  },
  {
   "cell_type": "code",
   "execution_count": 32,
   "id": "339d9571",
   "metadata": {},
   "outputs": [],
   "source": [
    "#x_train = vec_data[:16000]\n",
    "#x_test = vec_data[:2000]"
   ]
  },
  {
   "cell_type": "code",
   "execution_count": 33,
   "id": "9a490d17",
   "metadata": {},
   "outputs": [],
   "source": [
    "#y_train = training['label']\n",
    "#y_test = y_train[:2000]\n",
    "#y_train = y_train[:16000]"
   ]
  },
  {
   "cell_type": "markdown",
   "id": "91c5e186",
   "metadata": {},
   "source": [
    "# multinomial "
   ]
  },
  {
   "cell_type": "code",
   "execution_count": 34,
   "id": "83e7b92a",
   "metadata": {},
   "outputs": [],
   "source": [
    "from sklearn.naive_bayes import MultinomialNB"
   ]
  },
  {
   "cell_type": "code",
   "execution_count": 35,
   "id": "a506e345",
   "metadata": {},
   "outputs": [],
   "source": [
    "mnb = MultinomialNB()\n",
    "hist = mnb.fit(x_train, y_train)"
   ]
  },
  {
   "cell_type": "code",
   "execution_count": 37,
   "id": "909ec2b0",
   "metadata": {},
   "outputs": [
    {
     "ename": "AttributeError",
     "evalue": "'MultinomialNB' object has no attribute 'history'",
     "output_type": "error",
     "traceback": [
      "\u001b[1;31m---------------------------------------------------------------------------\u001b[0m",
      "\u001b[1;31mAttributeError\u001b[0m                            Traceback (most recent call last)",
      "Input \u001b[1;32mIn [37]\u001b[0m, in \u001b[0;36m<cell line: 1>\u001b[1;34m()\u001b[0m\n\u001b[1;32m----> 1\u001b[0m \u001b[43mhist\u001b[49m\u001b[38;5;241;43m.\u001b[39;49m\u001b[43mhistory\u001b[49m\n",
      "\u001b[1;31mAttributeError\u001b[0m: 'MultinomialNB' object has no attribute 'history'"
     ]
    }
   ],
   "source": []
  },
  {
   "cell_type": "code",
   "execution_count": 36,
   "id": "13ace2f9",
   "metadata": {},
   "outputs": [],
   "source": [
    "y_pred = mnb.predict(x_test)"
   ]
  },
  {
   "cell_type": "code",
   "execution_count": 37,
   "id": "40c7794a",
   "metadata": {},
   "outputs": [
    {
     "data": {
      "text/plain": [
       "array([1, 1, 1, ..., 0, 1, 0], dtype=int64)"
      ]
     },
     "execution_count": 37,
     "metadata": {},
     "output_type": "execute_result"
    }
   ],
   "source": [
    "y_pred\n"
   ]
  },
  {
   "cell_type": "code",
   "execution_count": 38,
   "id": "d534dacb",
   "metadata": {},
   "outputs": [
    {
     "data": {
      "text/plain": [
       "(5400,)"
      ]
     },
     "execution_count": 38,
     "metadata": {},
     "output_type": "execute_result"
    }
   ],
   "source": [
    "\n",
    "y_test.shape"
   ]
  },
  {
   "cell_type": "code",
   "execution_count": 64,
   "id": "6c67e5fe",
   "metadata": {},
   "outputs": [
    {
     "name": "stdout",
     "output_type": "stream",
     "text": [
      "Accuracy scores for each fold:  [0.66269841 0.65277778 0.65952381 0.65515873 0.65992063]\n"
     ]
    }
   ],
   "source": [
    "scores = cross_val_score(mnb, x_train, y_train, cv=5)\n",
    "print(\"Accuracy scores for each fold: \", scores)"
   ]
  },
  {
   "cell_type": "code",
   "execution_count": 39,
   "id": "c3b002ae",
   "metadata": {},
   "outputs": [
    {
     "data": {
      "text/plain": [
       "0"
      ]
     },
     "execution_count": 39,
     "metadata": {},
     "output_type": "execute_result"
    }
   ],
   "source": [
    "y_pred.shape\n",
    "y_pred[199]"
   ]
  },
  {
   "cell_type": "code",
   "execution_count": null,
   "id": "263d6572",
   "metadata": {},
   "outputs": [],
   "source": [
    "count = 0 \n",
    "i = 0\n",
    "n=len(y_test)\n",
    "for i in range(n):\n",
    "    if (y_pred[i]==y_test[i]):\n",
    "        count+=1\n",
    "per = (count/y_test.size)*100\n",
    "print('accuracy', per)"
   ]
  },
  {
   "cell_type": "code",
   "execution_count": 41,
   "id": "24626c23",
   "metadata": {},
   "outputs": [
    {
     "data": {
      "text/plain": [
       "67.25925925925927"
      ]
     },
     "execution_count": 41,
     "metadata": {},
     "output_type": "execute_result"
    }
   ],
   "source": [
    "from sklearn.metrics import accuracy_score\n",
    "\n",
    "# Assuming y_test and y_predicted are both numpy arrays or lists\n",
    "accuracy = accuracy_score(y_pred, y_test)\n",
    "accuracy_percentage = accuracy * 100\n",
    "accuracy_percentage"
   ]
  },
  {
   "cell_type": "markdown",
   "id": "42e32c95",
   "metadata": {},
   "source": [
    "# gaussian"
   ]
  },
  {
   "cell_type": "code",
   "execution_count": 44,
   "id": "d34ff842",
   "metadata": {},
   "outputs": [],
   "source": [
    "from sklearn.naive_bayes import GaussianNB\n",
    "gnb = GaussianNB()\n",
    "gnb.fit(x_train.toarray(), y_train)\n",
    "GaussianNB()\n",
    "y_test_gnb = gnb.predict(x_test.toarray())\n",
    "\n",
    "\n"
   ]
  },
  {
   "cell_type": "code",
   "execution_count": 45,
   "id": "358f9372",
   "metadata": {
    "scrolled": true
   },
   "outputs": [
    {
     "name": "stdout",
     "output_type": "stream",
     "text": [
      "[1 4 4 ... 0 2 5]\n"
     ]
    }
   ],
   "source": [
    "print(y_test_gnb)"
   ]
  },
  {
   "cell_type": "code",
   "execution_count": 46,
   "id": "85e8ded0",
   "metadata": {},
   "outputs": [
    {
     "data": {
      "text/plain": [
       "36.98148148148148"
      ]
     },
     "execution_count": 46,
     "metadata": {},
     "output_type": "execute_result"
    }
   ],
   "source": [
    "from sklearn.metrics import accuracy_score\n",
    "\n",
    "# Assuming y_test and y_predicted are both numpy arrays or lists\n",
    "accuracy = accuracy_score(y_test_gnb, y_test)\n",
    "accuracy_percentage = accuracy * 100\n",
    "accuracy_percentage"
   ]
  },
  {
   "cell_type": "markdown",
   "id": "9bcb5707",
   "metadata": {},
   "source": [
    "# complimentary naive bayes"
   ]
  },
  {
   "cell_type": "code",
   "execution_count": 47,
   "id": "4b329749",
   "metadata": {},
   "outputs": [
    {
     "name": "stdout",
     "output_type": "stream",
     "text": [
      "[1 1 2 ... 0 1 3]\n"
     ]
    }
   ],
   "source": [
    "from sklearn.naive_bayes import ComplementNB\n",
    "cnb = ComplementNB()\n",
    "cnb.fit(x_train.toarray(), y_train)\n",
    "ComplementNB()\n",
    "y_test_cnb = cnb.predict(x_test.toarray())\n",
    "print(y_test_cnb)\n"
   ]
  },
  {
   "cell_type": "code",
   "execution_count": 62,
   "id": "acc9f058",
   "metadata": {},
   "outputs": [
    {
     "name": "stdout",
     "output_type": "stream",
     "text": [
      "Accuracy scores for each fold:  [0.88571429 0.86904762 0.8781746  0.88174603 0.87420635]\n"
     ]
    }
   ],
   "source": [
    "scores = cross_val_score(cnb, x_train, y_train, cv=5)\n",
    "print(\"Accuracy scores for each fold: \", scores)"
   ]
  },
  {
   "cell_type": "code",
   "execution_count": null,
   "id": "3e950e3e",
   "metadata": {},
   "outputs": [],
   "source": []
  },
  {
   "cell_type": "code",
   "execution_count": 49,
   "id": "0e3d5083",
   "metadata": {},
   "outputs": [
    {
     "data": {
      "text/plain": [
       "87.6111111111111"
      ]
     },
     "execution_count": 49,
     "metadata": {},
     "output_type": "execute_result"
    }
   ],
   "source": [
    "from sklearn.metrics import accuracy_score\n",
    "\n",
    "# Assuming y_test and y_predicted are both numpy arrays or lists\n",
    "accuracy = accuracy_score(y_test_cnb, y_test)\n",
    "accuracy_percentage = accuracy * 100\n",
    "accuracy_percentage"
   ]
  },
  {
   "cell_type": "code",
   "execution_count": 54,
   "id": "a88c8c98",
   "metadata": {},
   "outputs": [],
   "source": [
    "from sklearn.linear_model import LogisticRegression\n",
    "lr = LogisticRegression(solver='liblinear')\n",
    "lr.fit(x_train,y_train)\n",
    "y_test_lr=lr.predict(x_test)"
   ]
  },
  {
   "cell_type": "code",
   "execution_count": 55,
   "id": "8886e195",
   "metadata": {},
   "outputs": [
    {
     "data": {
      "text/plain": [
       "84.83333333333334"
      ]
     },
     "execution_count": 55,
     "metadata": {},
     "output_type": "execute_result"
    }
   ],
   "source": [
    "from sklearn.metrics import accuracy_score\n",
    "\n",
    "# Assuming y_test and y_predicted are both numpy arrays or lists\n",
    "accuracy = accuracy_score(y_test_lr, y_test)\n",
    "accuracy_percentage = accuracy * 100\n",
    "accuracy_percentage"
   ]
  },
  {
   "cell_type": "code",
   "execution_count": 56,
   "id": "6e0e1063",
   "metadata": {},
   "outputs": [
    {
     "name": "stdout",
     "output_type": "stream",
     "text": [
      "0.9255555555555556\n"
     ]
    }
   ],
   "source": [
    "print(lr.score(x_train,y_train))"
   ]
  },
  {
   "cell_type": "code",
   "execution_count": 57,
   "id": "38649140",
   "metadata": {},
   "outputs": [
    {
     "name": "stdout",
     "output_type": "stream",
     "text": [
      "0.8483333333333334\n"
     ]
    }
   ],
   "source": [
    "print(lr.score(x_test,y_test))"
   ]
  },
  {
   "cell_type": "code",
   "execution_count": 60,
   "id": "74d25776",
   "metadata": {},
   "outputs": [
    {
     "name": "stdout",
     "output_type": "stream",
     "text": [
      "Accuracy scores for each fold:  [0.82896825 0.81269841 0.82579365 0.82777778 0.83293651]\n"
     ]
    }
   ],
   "source": [
    "from sklearn.model_selection import cross_val_score\n",
    "scores = cross_val_score(lr, x_train, y_train, cv=5)\n",
    "\n",
    "# Print the accuracy scores for each fold\n",
    "print(\"Accuracy scores for each fold: \", scores)"
   ]
  },
  {
   "cell_type": "code",
   "execution_count": null,
   "id": "97a49e40",
   "metadata": {},
   "outputs": [],
   "source": [
    "sentence = \"\""
   ]
  }
 ],
 "metadata": {
  "kernelspec": {
   "display_name": "Python 3 (ipykernel)",
   "language": "python",
   "name": "python3"
  },
  "language_info": {
   "codemirror_mode": {
    "name": "ipython",
    "version": 3
   },
   "file_extension": ".py",
   "mimetype": "text/x-python",
   "name": "python",
   "nbconvert_exporter": "python",
   "pygments_lexer": "ipython3",
   "version": "3.10.5"
  }
 },
 "nbformat": 4,
 "nbformat_minor": 5
}
